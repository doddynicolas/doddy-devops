{
  "nbformat": 4,
  "nbformat_minor": 0,
  "metadata": {
    "colab": {
      "name": "Untitled0.ipynb",
      "provenance": [],
      "authorship_tag": "ABX9TyM3YKKJqrxuUiKAJr0e6JDR",
      "include_colab_link": true
    },
    "kernelspec": {
      "name": "python3",
      "display_name": "Python 3"
    },
    "language_info": {
      "name": "python"
    }
  },
  "cells": [
    {
      "cell_type": "markdown",
      "metadata": {
        "id": "view-in-github",
        "colab_type": "text"
      },
      "source": [
        "<a href=\"https://colab.research.google.com/github/doddynicolas/doddy-devops/blob/main/torrentWebScrapping.ipynb\" target=\"_parent\"><img src=\"https://colab.research.google.com/assets/colab-badge.svg\" alt=\"Open In Colab\"/></a>"
      ]
    },
    {
      "cell_type": "code",
      "metadata": {
        "colab": {
          "base_uri": "https://localhost:8080/",
          "height": 738
        },
        "id": "ZWtC1_MuigEt",
        "outputId": "7d443cc0-a719-4d74-e4d4-55feec876cdb"
      },
      "source": [
        "!python -m pip install --upgrade pip setuptools wheel\n",
        "!python -m pip install lbry-libtorrent\n",
        "import requests\n",
        "import re\n",
        "from bs4 import BeautifulSoup\n",
        "from requests.sessions import session\n",
        "import time\n",
        "import sys\n",
        "import libtorrent as lt\n",
        "session = lt.session()\n",
        "session.listen_on(6881, 6891)\n",
        "params = {\n",
        "    'save_path': 'D:\\Torrent Download',\n",
        "    'storage_mode': lt.storage_mode_t(2)}\n",
        "    \n",
        "def get_torrent(magnet_link):\n",
        "    torrent_handle = lt.add_magnet_uri(session, magnet_link, params)\n",
        "    s = torrent_handle.status()\n",
        "    while (not torrent_handle.is_seed()):\n",
        "        time.sleep(1)\n",
        "        print(torrent_handle.status().progress)\n",
        "        s = torrent_handle.status()\n",
        "        print('\\r%.2f%% complete (down: %.1f kB/s up: %.1f kB/s peers: %d) %s' % (\n",
        "        s.progress * 100, s.download_rate / 1000, s.upload_rate / 1000,\n",
        "        s.num_peers, s.state), end=' ')\n",
        "        alerts = session.pop_alerts()\n",
        "        for a in alerts:\n",
        "            if a.category() & lt.alert.category_t.error_notification:\n",
        "                print(a)\n",
        "\n",
        "        sys.stdout.flush()\n",
        "\n",
        "    time.sleep(1)\n",
        "    print('Torrent Downloaded')\n",
        "    return torrent_handle\n",
        "               \n",
        "ws = requests.get('https://eztv.ch')\n",
        "soup = BeautifulSoup(ws.content, 'html.parser')\n",
        "links_with_text = soup.find_all('a', attrs = {'href' : re.compile(\"^https\")})\n",
        "for link in links_with_text:\n",
        "    print(get_torrent(link.get('href')))\n",
        "\n",
        "        \n",
        "\n",
        "\n",
        "        \n",
        "\n"
      ],
      "execution_count": 7,
      "outputs": [
        {
          "output_type": "stream",
          "name": "stdout",
          "text": [
            "0.0\n",
            "0.00% complete (down: 0.0 kB/s up: 0.0 kB/s peers: 0) downloading_metadata 0.0\n",
            "0.00% complete (down: 0.0 kB/s up: 0.0 kB/s peers: 0) downloading_metadata 0.0\n",
            "0.00% complete (down: 0.0 kB/s up: 0.0 kB/s peers: 0) downloading_metadata 0.0\n",
            "0.00% complete (down: 0.0 kB/s up: 0.0 kB/s peers: 0) downloading_metadata 0.0\n",
            "0.00% complete (down: 0.0 kB/s up: 0.0 kB/s peers: 0) downloading_metadata 0.0\n",
            "0.00% complete (down: 0.0 kB/s up: 0.0 kB/s peers: 0) downloading_metadata 0.0\n",
            "0.00% complete (down: 0.0 kB/s up: 0.0 kB/s peers: 0) downloading_metadata 0.0\n",
            "0.00% complete (down: 0.0 kB/s up: 0.0 kB/s peers: 0) downloading_metadata 0.0\n",
            "0.00% complete (down: 0.0 kB/s up: 0.0 kB/s peers: 0) downloading_metadata 0.0\n",
            "0.00% complete (down: 0.0 kB/s up: 0.0 kB/s peers: 0) downloading_metadata 0.0\n",
            "0.00% complete (down: 0.0 kB/s up: 0.0 kB/s peers: 0) downloading_metadata 0.0\n",
            "0.00% complete (down: 0.0 kB/s up: 0.0 kB/s peers: 0) downloading_metadata 0.0\n",
            "0.00% complete (down: 0.0 kB/s up: 0.0 kB/s peers: 0) downloading_metadata 0.0\n",
            "0.00% complete (down: 0.0 kB/s up: 0.0 kB/s peers: 0) downloading_metadata 0.0\n",
            "0.00% complete (down: 0.0 kB/s up: 0.0 kB/s peers: 0) downloading_metadata 0.0\n",
            "0.00% complete (down: 0.0 kB/s up: 0.0 kB/s peers: 0) downloading_metadata 0.0\n",
            "0.00% complete (down: 0.0 kB/s up: 0.0 kB/s peers: 0) downloading_metadata 0.0\n",
            "0.00% complete (down: 0.0 kB/s up: 0.0 kB/s peers: 0) downloading_metadata 0.0\n",
            "0.00% complete (down: 0.0 kB/s up: 0.0 kB/s peers: 0) downloading_metadata 0.0\n",
            "0.00% complete (down: 0.0 kB/s up: 0.0 kB/s peers: 0) downloading_metadata 0.0\n",
            "0.00% complete (down: 0.0 kB/s up: 0.0 kB/s peers: 0) downloading_metadata "
          ]
        },
        {
          "output_type": "error",
          "ename": "KeyboardInterrupt",
          "evalue": "ignored",
          "traceback": [
            "\u001b[0;31m---------------------------------------------------------------------------\u001b[0m",
            "\u001b[0;31mKeyboardInterrupt\u001b[0m                         Traceback (most recent call last)",
            "\u001b[0;32m<ipython-input-7-f5bcfc5166e3>\u001b[0m in \u001b[0;36m<module>\u001b[0;34m()\u001b[0m\n\u001b[1;32m     39\u001b[0m \u001b[0mlinks_with_text\u001b[0m \u001b[0;34m=\u001b[0m \u001b[0msoup\u001b[0m\u001b[0;34m.\u001b[0m\u001b[0mfind_all\u001b[0m\u001b[0;34m(\u001b[0m\u001b[0;34m'a'\u001b[0m\u001b[0;34m,\u001b[0m \u001b[0mattrs\u001b[0m \u001b[0;34m=\u001b[0m \u001b[0;34m{\u001b[0m\u001b[0;34m'href'\u001b[0m \u001b[0;34m:\u001b[0m \u001b[0mre\u001b[0m\u001b[0;34m.\u001b[0m\u001b[0mcompile\u001b[0m\u001b[0;34m(\u001b[0m\u001b[0;34m\"^https\"\u001b[0m\u001b[0;34m)\u001b[0m\u001b[0;34m}\u001b[0m\u001b[0;34m)\u001b[0m\u001b[0;34m\u001b[0m\u001b[0;34m\u001b[0m\u001b[0m\n\u001b[1;32m     40\u001b[0m \u001b[0;32mfor\u001b[0m \u001b[0mlink\u001b[0m \u001b[0;32min\u001b[0m \u001b[0mlinks_with_text\u001b[0m\u001b[0;34m:\u001b[0m\u001b[0;34m\u001b[0m\u001b[0;34m\u001b[0m\u001b[0m\n\u001b[0;32m---> 41\u001b[0;31m     \u001b[0mprint\u001b[0m\u001b[0;34m(\u001b[0m\u001b[0mget_torrent\u001b[0m\u001b[0;34m(\u001b[0m\u001b[0mlink\u001b[0m\u001b[0;34m.\u001b[0m\u001b[0mget\u001b[0m\u001b[0;34m(\u001b[0m\u001b[0;34m'href'\u001b[0m\u001b[0;34m)\u001b[0m\u001b[0;34m)\u001b[0m\u001b[0;34m)\u001b[0m\u001b[0;34m\u001b[0m\u001b[0;34m\u001b[0m\u001b[0m\n\u001b[0m\u001b[1;32m     42\u001b[0m \u001b[0;34m\u001b[0m\u001b[0m\n\u001b[1;32m     43\u001b[0m \u001b[0;34m\u001b[0m\u001b[0m\n",
            "\u001b[0;32m<ipython-input-7-f5bcfc5166e3>\u001b[0m in \u001b[0;36mget_torrent\u001b[0;34m(magnet_link)\u001b[0m\n\u001b[1;32m     18\u001b[0m     \u001b[0ms\u001b[0m \u001b[0;34m=\u001b[0m \u001b[0mtorrent_handle\u001b[0m\u001b[0;34m.\u001b[0m\u001b[0mstatus\u001b[0m\u001b[0;34m(\u001b[0m\u001b[0;34m)\u001b[0m\u001b[0;34m\u001b[0m\u001b[0;34m\u001b[0m\u001b[0m\n\u001b[1;32m     19\u001b[0m     \u001b[0;32mwhile\u001b[0m \u001b[0;34m(\u001b[0m\u001b[0;32mnot\u001b[0m \u001b[0mtorrent_handle\u001b[0m\u001b[0;34m.\u001b[0m\u001b[0mis_seed\u001b[0m\u001b[0;34m(\u001b[0m\u001b[0;34m)\u001b[0m\u001b[0;34m)\u001b[0m\u001b[0;34m:\u001b[0m\u001b[0;34m\u001b[0m\u001b[0;34m\u001b[0m\u001b[0m\n\u001b[0;32m---> 20\u001b[0;31m         \u001b[0mtime\u001b[0m\u001b[0;34m.\u001b[0m\u001b[0msleep\u001b[0m\u001b[0;34m(\u001b[0m\u001b[0;36m1\u001b[0m\u001b[0;34m)\u001b[0m\u001b[0;34m\u001b[0m\u001b[0;34m\u001b[0m\u001b[0m\n\u001b[0m\u001b[1;32m     21\u001b[0m         \u001b[0mprint\u001b[0m\u001b[0;34m(\u001b[0m\u001b[0mtorrent_handle\u001b[0m\u001b[0;34m.\u001b[0m\u001b[0mstatus\u001b[0m\u001b[0;34m(\u001b[0m\u001b[0;34m)\u001b[0m\u001b[0;34m.\u001b[0m\u001b[0mprogress\u001b[0m\u001b[0;34m)\u001b[0m\u001b[0;34m\u001b[0m\u001b[0;34m\u001b[0m\u001b[0m\n\u001b[1;32m     22\u001b[0m         \u001b[0ms\u001b[0m \u001b[0;34m=\u001b[0m \u001b[0mtorrent_handle\u001b[0m\u001b[0;34m.\u001b[0m\u001b[0mstatus\u001b[0m\u001b[0;34m(\u001b[0m\u001b[0;34m)\u001b[0m\u001b[0;34m\u001b[0m\u001b[0;34m\u001b[0m\u001b[0m\n",
            "\u001b[0;31mKeyboardInterrupt\u001b[0m: "
          ]
        }
      ]
    }
  ]
}