{
  "nbformat": 4,
  "nbformat_minor": 0,
  "metadata": {
    "colab": {
      "name": "Untitled1.ipynb",
      "provenance": [],
      "collapsed_sections": [],
      "authorship_tag": "ABX9TyOlYirkbftufKq00gK52Xm9",
      "include_colab_link": true
    },
    "kernelspec": {
      "name": "python3",
      "display_name": "Python 3"
    },
    "language_info": {
      "name": "python"
    }
  },
  "cells": [
    {
      "cell_type": "markdown",
      "metadata": {
        "id": "view-in-github",
        "colab_type": "text"
      },
      "source": [
        "<a href=\"https://colab.research.google.com/github/doddynicolas/doddy-devops/blob/main/ws.ipynb\" target=\"_parent\"><img src=\"https://colab.research.google.com/assets/colab-badge.svg\" alt=\"Open In Colab\"/></a>"
      ]
    },
    {
      "cell_type": "code",
      "metadata": {
        "id": "D1vZ9rGC2D8-",
        "colab": {
          "base_uri": "https://localhost:8080/"
        },
        "outputId": "b08796c5-674c-43bb-be4a-50d934cb3410"
      },
      "source": [
        "!python -m pip install --upgrade pip setuptools wheel\n",
        "!python -m pip install lbry-libtorrent\n",
        "import libtorrent as lt\n",
        "import time\n",
        "\n",
        "ses = lt.session()\n",
        "ses.listen_on(6881, 6891)\n",
        "params = {\n",
        "   'save_path': 'D:\\Torrent Download',\n",
        "   'storage_mode': lt.storage_mode_t(2)   \n",
        "}\n",
        "link = \"magnet:?xt=urn:btih:4MR6HU7SIHXAXQQFXFJTNLTYSREDR5EI&tr=http://tracker.vodo.net:6970/announce\"\n",
        "handle = lt.add_magnet_uri(ses, link, params)\n",
        "ses.start_dht()\n",
        "\n",
        "print ('downloading metadata...')\n",
        "while (not handle.has_metadata()):\n",
        "   time.sleep(1)\n",
        "print ('got metadata, starting torrent download...')\n",
        "while (handle.status().state != lt.torrent_status.seeding):\n",
        "   s = handle.status()\n",
        "state_str = ['queued', 'checking', 'downloading metadata', \\\n",
        "   'downloading', 'finished', 'seeding', 'allocating'\n",
        "]\n",
        "print (\"download\")\n",
        "time.sleep(5)"
      ],
      "execution_count": 11,
      "outputs": [
        {
          "output_type": "stream",
          "name": "stdout",
          "text": [
            "Requirement already satisfied: pip in /usr/local/lib/python3.7/dist-packages (21.3.1)\n",
            "Requirement already satisfied: setuptools in /usr/local/lib/python3.7/dist-packages (59.2.0)\n",
            "Requirement already satisfied: wheel in /usr/local/lib/python3.7/dist-packages (0.37.0)\n",
            "\u001b[33mWARNING: Running pip as the 'root' user can result in broken permissions and conflicting behaviour with the system package manager. It is recommended to use a virtual environment instead: https://pip.pypa.io/warnings/venv\u001b[0m\n",
            "Requirement already satisfied: lbry-libtorrent in /usr/local/lib/python3.7/dist-packages (1.2.4)\n",
            "\u001b[33mWARNING: Running pip as the 'root' user can result in broken permissions and conflicting behaviour with the system package manager. It is recommended to use a virtual environment instead: https://pip.pypa.io/warnings/venv\u001b[0m\n",
            "downloading metadata...\n",
            "got metadata, starting torrent download...\n",
            "download\n"
          ]
        }
      ]
    }
  ]
}